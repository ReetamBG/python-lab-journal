{
 "cells": [
  {
   "cell_type": "markdown",
   "id": "abc18265-785c-43cc-a9f7-15ffb183430a",
   "metadata": {},
   "source": [
    "### Write a program to perform Chi square test"
   ]
  },
  {
   "cell_type": "code",
   "execution_count": 12,
   "id": "349646b2-0551-46d3-8563-d22ddcbef636",
   "metadata": {},
   "outputs": [],
   "source": [
    "import numpy as np\n",
    "import pandas as pd\n",
    "import scipy.stats as st"
   ]
  },
  {
   "cell_type": "code",
   "execution_count": 22,
   "id": "2ee94efd-f7c2-4afc-b2e0-7d99a043502e",
   "metadata": {},
   "outputs": [
    {
     "name": "stdout",
     "output_type": "stream",
     "text": [
      "0    100000\n",
      "1     60000\n",
      "2     50000\n",
      "3     15000\n",
      "4     35000\n",
      "Name: population, dtype: int64\n",
      "0    600\n",
      "1    300\n",
      "2    250\n",
      "3     75\n",
      "4    150\n",
      "Name: sample, dtype: int64\n"
     ]
    }
   ],
   "source": [
    "population = pd.Series([100000, 60000, 50000, 15000, 35000], name='population')\n",
    "sample = pd.Series([600, 300, 250, 75, 150], name='sample')\n",
    "\n",
    "print(population)\n",
    "print(sample)"
   ]
  },
  {
   "cell_type": "code",
   "execution_count": 20,
   "id": "566c10d1-d8c6-4090-a0c9-b8c31d531220",
   "metadata": {},
   "outputs": [
    {
     "data": {
      "text/plain": [
       "0    0.384615\n",
       "1    0.230769\n",
       "2    0.192308\n",
       "3    0.057692\n",
       "4    0.134615\n",
       "Name: population, dtype: float64"
      ]
     },
     "execution_count": 20,
     "metadata": {},
     "output_type": "execute_result"
    }
   ],
   "source": [
    "population_proportion = population.apply(lambda x : x/sum(population))\n",
    "population_proportion"
   ]
  },
  {
   "cell_type": "code",
   "execution_count": 29,
   "id": "6fb14d82-1d5e-42e6-91de-cc2b410485ab",
   "metadata": {},
   "outputs": [
    {
     "name": "stdout",
     "output_type": "stream",
     "text": [
      "0    600\n",
      "1    300\n",
      "2    250\n",
      "3     75\n",
      "4    150\n",
      "Name: sample, dtype: int64\n",
      "0    528.846154\n",
      "1    317.307692\n",
      "2    264.423077\n",
      "3     79.326923\n",
      "4    185.096154\n",
      "Name: population, dtype: float64\n"
     ]
    }
   ],
   "source": [
    "observed_values = sample\n",
    "expected_values = sample.sum() * population_proportion\n",
    "\n",
    "print(observed_values)\n",
    "print(expected_values)"
   ]
  },
  {
   "cell_type": "code",
   "execution_count": 39,
   "id": "530a46cb-0add-4f77-91ce-7f1c511255f8",
   "metadata": {},
   "outputs": [
    {
     "name": "stdout",
     "output_type": "stream",
     "text": [
      "Chi square value : 18.194805194805177\n",
      "Critical value : 9.487729036781154\n",
      "P value : 0.001130467092803511\n"
     ]
    }
   ],
   "source": [
    "chi_squared = ((observed_values - expected_values)**2 / expected_values).sum()\n",
    "crit = st.chi2.ppf(q = 0.95, df = 4)\n",
    "p_value = 1 - st.chi2.cdf(x = chi_squared, df = 4)\n",
    "\n",
    "print('Chi square value : {}\\nCritical value : {}\\nP value : {}'.format(chi_squared, crit, p_value))"
   ]
  },
  {
   "cell_type": "markdown",
   "id": "4fa3f91c-5ff1-4701-96cb-40f560ff4807",
   "metadata": {},
   "source": [
    "### Conclusion :\n",
    "Since the chi squared value exceeds the critical value, we reject the null hypothesis that the distributions are same"
   ]
  },
  {
   "cell_type": "code",
   "execution_count": 43,
   "id": "abb2cac4-6aae-4c68-9c15-a68d57ae7472",
   "metadata": {},
   "outputs": [
    {
     "data": {
      "text/plain": [
       "Power_divergenceResult(statistic=18.194805194805177, pvalue=0.0011304670928034746)"
      ]
     },
     "execution_count": 43,
     "metadata": {},
     "output_type": "execute_result"
    }
   ],
   "source": [
    "st.chisquare(f_obs = observed_values, f_exp = expected_values)"
   ]
  }
 ],
 "metadata": {
  "kernelspec": {
   "display_name": "ML",
   "language": "python",
   "name": "ml"
  },
  "language_info": {
   "codemirror_mode": {
    "name": "ipython",
    "version": 3
   },
   "file_extension": ".py",
   "mimetype": "text/x-python",
   "name": "python",
   "nbconvert_exporter": "python",
   "pygments_lexer": "ipython3",
   "version": "3.12.2"
  }
 },
 "nbformat": 4,
 "nbformat_minor": 5
}
